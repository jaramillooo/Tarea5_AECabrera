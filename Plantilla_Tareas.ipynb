{
 "cells": [
  {
   "cell_type": "markdown",
   "metadata": {},
   "source": [
    "<img style=\"float: left; margin: 30px 15px 15px 15px;\" src=\"https://encrypted-tbn0.gstatic.com/images?q=tbn:ANd9GcTFzQj91sOlkeDFkg5HDbjtR4QJYmLXkfMNig&usqp=CAU\" width=\"400\" height=\"500\" /> \n",
    "    \n",
    "    \n",
    "### <font color='navy'> Modelos no lineales para pronósticos. \n",
    "\n",
    "**Nombres:** Axel Jaramillo, Ricardo Damián Hernández Ramírez\n",
    "\n",
    "**Fecha:** 12 marzo 2024\n",
    "\n",
    "**Expediente** : 730793,740356\n",
    "    \n",
    "**Profesor:** Oscar David Jaramillo Zuluaga.\n",
    "    \n",
    "**Link Github**: [github](https://github.com/jaramillooo/Tarea5_AECabrera)\n",
    "\n",
    "# Tarea 5: Clase 13"
   ]
  },
  {
   "cell_type": "markdown",
   "metadata": {},
   "source": [
    "## Descripción de la tarea\n",
    "# <font color= red>  Tarea  </font>\n",
    "\n",
    "Implementar todas las técnicas vistas en esta clase al siguiente dataset para predecir el precio de las viviendas:\n",
    "\n",
    "https://www.kaggle.com/datasets/yasserh/housing-prices-dataset"
   ]
  },
  {
   "cell_type": "markdown",
   "metadata": {},
   "source": [
    "Código de solución estudiante 1"
   ]
  },
  {
   "cell_type": "code",
   "execution_count": null,
   "metadata": {},
   "outputs": [],
   "source": [
    "# Código de solución estudiante 1\n",
    ".\n",
    ".\n",
    ".\n",
    ".\n"
   ]
  },
  {
   "cell_type": "markdown",
   "metadata": {},
   "source": [
    "Código de solución estudiante 2: Ricardo Damián Hernández Ramírez"
   ]
  },
  {
   "cell_type": "code",
   "execution_count": 1,
   "metadata": {},
   "outputs": [],
   "source": [
    "import pandas as pd \n",
    "import numpy as np\n",
    "import matplotlib.pyplot as plt"
   ]
  },
  {
   "cell_type": "code",
   "execution_count": 2,
   "metadata": {},
   "outputs": [
    {
     "data": {
      "text/html": [
       "<div>\n",
       "<style scoped>\n",
       "    .dataframe tbody tr th:only-of-type {\n",
       "        vertical-align: middle;\n",
       "    }\n",
       "\n",
       "    .dataframe tbody tr th {\n",
       "        vertical-align: top;\n",
       "    }\n",
       "\n",
       "    .dataframe thead th {\n",
       "        text-align: right;\n",
       "    }\n",
       "</style>\n",
       "<table border=\"1\" class=\"dataframe\">\n",
       "  <thead>\n",
       "    <tr style=\"text-align: right;\">\n",
       "      <th></th>\n",
       "      <th>price</th>\n",
       "      <th>area</th>\n",
       "      <th>bedrooms</th>\n",
       "      <th>bathrooms</th>\n",
       "      <th>stories</th>\n",
       "      <th>mainroad</th>\n",
       "      <th>guestroom</th>\n",
       "      <th>basement</th>\n",
       "      <th>hotwaterheating</th>\n",
       "      <th>airconditioning</th>\n",
       "      <th>parking</th>\n",
       "      <th>prefarea</th>\n",
       "      <th>furnishingstatus</th>\n",
       "    </tr>\n",
       "  </thead>\n",
       "  <tbody>\n",
       "    <tr>\n",
       "      <th>0</th>\n",
       "      <td>13300000</td>\n",
       "      <td>7420</td>\n",
       "      <td>4</td>\n",
       "      <td>2</td>\n",
       "      <td>3</td>\n",
       "      <td>yes</td>\n",
       "      <td>no</td>\n",
       "      <td>no</td>\n",
       "      <td>no</td>\n",
       "      <td>yes</td>\n",
       "      <td>2</td>\n",
       "      <td>yes</td>\n",
       "      <td>furnished</td>\n",
       "    </tr>\n",
       "    <tr>\n",
       "      <th>1</th>\n",
       "      <td>12250000</td>\n",
       "      <td>8960</td>\n",
       "      <td>4</td>\n",
       "      <td>4</td>\n",
       "      <td>4</td>\n",
       "      <td>yes</td>\n",
       "      <td>no</td>\n",
       "      <td>no</td>\n",
       "      <td>no</td>\n",
       "      <td>yes</td>\n",
       "      <td>3</td>\n",
       "      <td>no</td>\n",
       "      <td>furnished</td>\n",
       "    </tr>\n",
       "    <tr>\n",
       "      <th>2</th>\n",
       "      <td>12250000</td>\n",
       "      <td>9960</td>\n",
       "      <td>3</td>\n",
       "      <td>2</td>\n",
       "      <td>2</td>\n",
       "      <td>yes</td>\n",
       "      <td>no</td>\n",
       "      <td>yes</td>\n",
       "      <td>no</td>\n",
       "      <td>no</td>\n",
       "      <td>2</td>\n",
       "      <td>yes</td>\n",
       "      <td>semi-furnished</td>\n",
       "    </tr>\n",
       "    <tr>\n",
       "      <th>3</th>\n",
       "      <td>12215000</td>\n",
       "      <td>7500</td>\n",
       "      <td>4</td>\n",
       "      <td>2</td>\n",
       "      <td>2</td>\n",
       "      <td>yes</td>\n",
       "      <td>no</td>\n",
       "      <td>yes</td>\n",
       "      <td>no</td>\n",
       "      <td>yes</td>\n",
       "      <td>3</td>\n",
       "      <td>yes</td>\n",
       "      <td>furnished</td>\n",
       "    </tr>\n",
       "    <tr>\n",
       "      <th>4</th>\n",
       "      <td>11410000</td>\n",
       "      <td>7420</td>\n",
       "      <td>4</td>\n",
       "      <td>1</td>\n",
       "      <td>2</td>\n",
       "      <td>yes</td>\n",
       "      <td>yes</td>\n",
       "      <td>yes</td>\n",
       "      <td>no</td>\n",
       "      <td>yes</td>\n",
       "      <td>2</td>\n",
       "      <td>no</td>\n",
       "      <td>furnished</td>\n",
       "    </tr>\n",
       "  </tbody>\n",
       "</table>\n",
       "</div>"
      ],
      "text/plain": [
       "      price  area  bedrooms  bathrooms  stories mainroad guestroom basement  \\\n",
       "0  13300000  7420         4          2        3      yes        no       no   \n",
       "1  12250000  8960         4          4        4      yes        no       no   \n",
       "2  12250000  9960         3          2        2      yes        no      yes   \n",
       "3  12215000  7500         4          2        2      yes        no      yes   \n",
       "4  11410000  7420         4          1        2      yes       yes      yes   \n",
       "\n",
       "  hotwaterheating airconditioning  parking prefarea furnishingstatus  \n",
       "0              no             yes        2      yes        furnished  \n",
       "1              no             yes        3       no        furnished  \n",
       "2              no              no        2      yes   semi-furnished  \n",
       "3              no             yes        3      yes        furnished  \n",
       "4              no             yes        2       no        furnished  "
      ]
     },
     "execution_count": 2,
     "metadata": {},
     "output_type": "execute_result"
    }
   ],
   "source": [
    "data = pd.read_csv(\"Housing.csv\")\n",
    "data.head()"
   ]
  },
  {
   "cell_type": "code",
   "execution_count": 3,
   "metadata": {},
   "outputs": [
    {
     "data": {
      "text/plain": [
       "price               0\n",
       "area                0\n",
       "bedrooms            0\n",
       "bathrooms           0\n",
       "stories             0\n",
       "mainroad            0\n",
       "guestroom           0\n",
       "basement            0\n",
       "hotwaterheating     0\n",
       "airconditioning     0\n",
       "parking             0\n",
       "prefarea            0\n",
       "furnishingstatus    0\n",
       "dtype: int64"
      ]
     },
     "execution_count": 3,
     "metadata": {},
     "output_type": "execute_result"
    }
   ],
   "source": [
    "data.isnull().sum()"
   ]
  },
  {
   "cell_type": "markdown",
   "metadata": {},
   "source": [
    "## 1. Modelo CNN univariado"
   ]
  },
  {
   "cell_type": "code",
   "execution_count": 4,
   "metadata": {},
   "outputs": [],
   "source": [
    "from keras.models import Sequential\n",
    "from keras.layers import Dense, Flatten, Conv1D, MaxPooling1D"
   ]
  },
  {
   "cell_type": "code",
   "execution_count": 5,
   "metadata": {},
   "outputs": [],
   "source": [
    "# dividir una secuencia univariada en muestras\n",
    "def split_univariate_sequence(sequence, n_steps):\n",
    "    X, y = list(), list()\n",
    "    for i in range(len(sequence)):\n",
    "        # encontrar el final de este patrón\n",
    "        end_ix = i + n_steps\n",
    "        \n",
    "        # comprobar si estamos más allá de la secuencia\n",
    "        if end_ix > len(sequence)-1:\n",
    "            break\n",
    "        # reunir partes de entrada y salida del patrón\n",
    "        seq_x, seq_y = sequence[i:end_ix], sequence[end_ix]\n",
    "        X.append(seq_x)\n",
    "        y.append(seq_y)\n",
    "    return np.array(X), np.array(y)"
   ]
  },
  {
   "cell_type": "code",
   "execution_count": 6,
   "metadata": {},
   "outputs": [],
   "source": [
    "column = 'price'\n",
    "n_steps = 3\n",
    "X, y = split_univariate_sequence(data[column], n_steps)\n",
    "# Número de características de mis datos\n",
    "n_features = 1"
   ]
  },
  {
   "cell_type": "code",
   "execution_count": 7,
   "metadata": {},
   "outputs": [
    {
     "name": "stdout",
     "output_type": "stream",
     "text": [
      "Model: \"sequential\"\n",
      "_________________________________________________________________\n",
      " Layer (type)                Output Shape              Param #   \n",
      "=================================================================\n",
      " conv1d (Conv1D)             (None, 2, 64)             192       \n",
      "                                                                 \n",
      " max_pooling1d (MaxPooling1D  (None, 1, 64)            0         \n",
      " )                                                               \n",
      "                                                                 \n",
      " flatten (Flatten)           (None, 64)                0         \n",
      "                                                                 \n",
      " dense (Dense)               (None, 50)                3250      \n",
      "                                                                 \n",
      " dense_1 (Dense)             (None, 1)                 51        \n",
      "                                                                 \n",
      "=================================================================\n",
      "Total params: 3,493\n",
      "Trainable params: 3,493\n",
      "Non-trainable params: 0\n",
      "_________________________________________________________________\n"
     ]
    }
   ],
   "source": [
    "model_1 = Sequential()\n",
    "model_1.add(Conv1D(64, 2, activation='relu', input_shape=(n_steps, n_features)))\n",
    "model_1.add(MaxPooling1D())\n",
    "model_1.add(Flatten())\n",
    "model_1.add(Dense(50, activation='relu'))\n",
    "model_1.add(Dense(1))\n",
    "model_1.compile(optimizer='adam', loss='mse')\n",
    "model_1.summary()"
   ]
  },
  {
   "cell_type": "code",
   "execution_count": 8,
   "metadata": {},
   "outputs": [
    {
     "data": {
      "text/plain": [
       "(542, 3)"
      ]
     },
     "execution_count": 8,
     "metadata": {},
     "output_type": "execute_result"
    }
   ],
   "source": [
    "X.shape\n"
   ]
  },
  {
   "cell_type": "code",
   "execution_count": 9,
   "metadata": {},
   "outputs": [
    {
     "data": {
      "text/plain": [
       "array([[[13300000],\n",
       "        [12250000],\n",
       "        [12250000]],\n",
       "\n",
       "       [[12250000],\n",
       "        [12250000],\n",
       "        [12215000]],\n",
       "\n",
       "       [[12250000],\n",
       "        [12215000],\n",
       "        [11410000]],\n",
       "\n",
       "       ...,\n",
       "\n",
       "       [[ 1855000],\n",
       "        [ 1820000],\n",
       "        [ 1767150]],\n",
       "\n",
       "       [[ 1820000],\n",
       "        [ 1767150],\n",
       "        [ 1750000]],\n",
       "\n",
       "       [[ 1767150],\n",
       "        [ 1750000],\n",
       "        [ 1750000]]], dtype=int64)"
      ]
     },
     "execution_count": 9,
     "metadata": {},
     "output_type": "execute_result"
    }
   ],
   "source": [
    "X = X.reshape((X.shape[0], X.shape[1], n_features))\n",
    "X"
   ]
  },
  {
   "cell_type": "code",
   "execution_count": 10,
   "metadata": {},
   "outputs": [],
   "source": [
    "history_1 = model_1.fit(X,y, epochs = 1000, verbose = False)"
   ]
  },
  {
   "cell_type": "code",
   "execution_count": 11,
   "metadata": {},
   "outputs": [
    {
     "data": {
      "text/plain": [
       "<AxesSubplot:>"
      ]
     },
     "execution_count": 11,
     "metadata": {},
     "output_type": "execute_result"
    },
    {
     "data": {
      "image/png": "[encoded data removed]",
      "text/plain": [
       "<Figure size 640x480 with 1 Axes>"
      ]
     },
     "metadata": {},
     "output_type": "display_data"
    }
   ],
   "source": [
    "pd.DataFrame(history_1.history).plot()\n"
   ]
  },
  {
   "cell_type": "code",
   "execution_count": 12,
   "metadata": {},
   "outputs": [
    {
     "data": {
      "text/plain": [
       "array([[1737818.5]], dtype=float32)"
      ]
     },
     "execution_count": 12,
     "metadata": {},
     "output_type": "execute_result"
    }
   ],
   "source": [
    "x_input = np.array(data['price'][-3:])  \n",
    "\n",
    "# Luego remodelamos para que coincida con la forma de entrada del modelo\n",
    "x_input = np.reshape(x_input, (1, x_input.shape[0], 1))  \n",
    "\n",
    "# Finalmente, predecimos utilizando el modelo\n",
    "yhat = model_1.predict(x_input, verbose=0)\n",
    "yhat"
   ]
  },
  {
   "cell_type": "markdown",
   "metadata": {},
   "source": [
    "\n",
    "2. Modelos CNN multivariados\n",
    "\n",
    "2.1 Series de entradas múltiples"
   ]
  },
  {
   "cell_type": "code",
   "execution_count": 13,
   "metadata": {},
   "outputs": [],
   "source": [
    "cat = data.select_dtypes(exclude='int')  # Seleccionar las columnas categóricas\n",
    "dummy = pd.get_dummies(data[cat.columns], drop_first=True)  # Obtener las variables dummy\n",
    "dummy = dummy.astype('int')  # Convertir las variables dummy a tipo entero\n",
    "data_without_cat = data.drop(columns=cat.columns)\n",
    "\n",
    "# Concatenar data original sin las columnas categóricas y las variables dummy\n",
    "data_dummy = pd.concat([data_without_cat, dummy], axis=1)\n",
    "# Mover la columna price a\n",
    "price_column = data_dummy.pop('price')\n",
    "data_dummy['price'] = price_column\n"
   ]
  },
  {
   "cell_type": "code",
   "execution_count": 14,
   "metadata": {},
   "outputs": [],
   "source": [
    "# dividir una secuencia multivariada en muestras\n",
    "def split_multivariate_sequence(sequence: np.ndarray, n_steps: int):\n",
    "    X, y = list(), list()\n",
    "    for i in range(len(sequence)):\n",
    "        # encontrar el final de este patrón\n",
    "        end_ix = i + n_steps\n",
    "        \n",
    "        # comprobar si estamos más allá de la secuencia\n",
    "        if end_ix > len(sequence):\n",
    "            break\n",
    "        # reunir partes de entrada y salida del patrón\n",
    "        seq_x, seq_y = sequence[i:end_ix, :-1], sequence[end_ix - 1, -1]\n",
    "        X.append(seq_x)\n",
    "        y.append(seq_y)\n",
    "    return np.array(X), np.array(y)"
   ]
  },
  {
   "cell_type": "code",
   "execution_count": 15,
   "metadata": {},
   "outputs": [
    {
     "data": {
      "text/plain": [
       "((543, 3, 13), (543,))"
      ]
     },
     "execution_count": 15,
     "metadata": {},
     "output_type": "execute_result"
    }
   ],
   "source": [
    "n_steps = 3\n",
    "X, y = split_multivariate_sequence(data_dummy.to_numpy(), n_steps)\n",
    "\n",
    "n_features = X.shape[2]\n",
    "\n",
    "X.shape, y.shape"
   ]
  },
  {
   "cell_type": "code",
   "execution_count": 16,
   "metadata": {},
   "outputs": [
    {
     "name": "stdout",
     "output_type": "stream",
     "text": [
      "Model: \"sequential_1\"\n",
      "_________________________________________________________________\n",
      " Layer (type)                Output Shape              Param #   \n",
      "=================================================================\n",
      " conv1d_1 (Conv1D)           (None, 2, 64)             1728      \n",
      "                                                                 \n",
      " max_pooling1d_1 (MaxPooling  (None, 1, 64)            0         \n",
      " 1D)                                                             \n",
      "                                                                 \n",
      " flatten_1 (Flatten)         (None, 64)                0         \n",
      "                                                                 \n",
      " dense_2 (Dense)             (None, 50)                3250      \n",
      "                                                                 \n",
      " dense_3 (Dense)             (None, 1)                 51        \n",
      "                                                                 \n",
      "=================================================================\n",
      "Total params: 5,029\n",
      "Trainable params: 5,029\n",
      "Non-trainable params: 0\n",
      "_________________________________________________________________\n"
     ]
    }
   ],
   "source": [
    "# Definimos nuestro modelo\n",
    "model_2 = Sequential()\n",
    "model_2.add(Conv1D(64, 2, activation='relu', input_shape=(n_steps, n_features)))\n",
    "model_2.add(MaxPooling1D())\n",
    "model_2.add(Flatten())\n",
    "model_2.add(Dense(50, activation='relu'))\n",
    "model_2.add(Dense(1))\n",
    "model_2.compile(optimizer='adam', loss='mse')\n",
    "model_2.summary()"
   ]
  },
  {
   "cell_type": "code",
   "execution_count": 17,
   "metadata": {},
   "outputs": [],
   "source": [
    "history_2 = model_2.fit(X,y, epochs = 1000, verbose = False)"
   ]
  },
  {
   "cell_type": "code",
   "execution_count": 18,
   "metadata": {},
   "outputs": [
    {
     "data": {
      "image/png": "[encoded data removed]",
      "text/plain": [
       "<Figure size 640x480 with 1 Axes>"
      ]
     },
     "metadata": {},
     "output_type": "display_data"
    }
   ],
   "source": [
    "pd.DataFrame(history_2.history).plot()\n",
    "plt.show()"
   ]
  },
  {
   "cell_type": "code",
   "execution_count": 19,
   "metadata": {},
   "outputs": [
    {
     "data": {
      "text/plain": [
       "array([[2512002.8]], dtype=float32)"
      ]
     },
     "execution_count": 19,
     "metadata": {},
     "output_type": "execute_result"
    }
   ],
   "source": [
    "last_three_samples = X[-3:][0]\n",
    "input_array = last_three_samples\n",
    "input_array_reshaped = input_array.reshape((1, n_steps, n_features))\n",
    "predicted_y = model_2.predict(input_array_reshaped, verbose=0)\n",
    "predicted_y"
   ]
  },
  {
   "cell_type": "markdown",
   "metadata": {},
   "source": [
    "## Modelo CNN con múltiples encabezamientos"
   ]
  },
  {
   "cell_type": "code",
   "execution_count": 20,
   "metadata": {},
   "outputs": [],
   "source": [
    "# Paqueterías faltantes\n",
    "from keras.models import Model\n",
    "from keras.layers import concatenate, Input\n",
    "from keras.utils import plot_model"
   ]
  },
  {
   "cell_type": "code",
   "execution_count": 21,
   "metadata": {},
   "outputs": [],
   "source": [
    "n_features = 1\n",
    "n_steps = 3"
   ]
  },
  {
   "cell_type": "code",
   "execution_count": 22,
   "metadata": {},
   "outputs": [],
   "source": [
    "# Primer modelo de entrada\n",
    "visible1 = Input(shape=(n_steps, n_features))\n",
    "cnn1 = Conv1D(64, 2, activation='relu')(visible1)\n",
    "cnn1 = MaxPooling1D()(cnn1)\n",
    "cnn1 = Flatten()(cnn1)"
   ]
  },
  {
   "cell_type": "code",
   "execution_count": 23,
   "metadata": {},
   "outputs": [],
   "source": [
    "# Segundo modelo de entrada\n",
    "visible2 = Input(shape=(n_steps, n_features))\n",
    "cnn2 = Conv1D(64, 2, activation='relu')(visible2)\n",
    "cnn2 = MaxPooling1D()(cnn2)\n",
    "cnn2 = Flatten()(cnn2)"
   ]
  },
  {
   "cell_type": "code",
   "execution_count": 24,
   "metadata": {},
   "outputs": [],
   "source": [
    "# merge modelos de entrada\n",
    "merge = concatenate([cnn1, cnn2])\n",
    "dense = Dense(50, activation='relu')(merge)\n",
    "output = Dense(1)(dense)"
   ]
  },
  {
   "cell_type": "code",
   "execution_count": 25,
   "metadata": {},
   "outputs": [
    {
     "name": "stdout",
     "output_type": "stream",
     "text": [
      "Model: \"model\"\n",
      "__________________________________________________________________________________________________\n",
      " Layer (type)                   Output Shape         Param #     Connected to                     \n",
      "==================================================================================================\n",
      " input_1 (InputLayer)           [(None, 3, 1)]       0           []                               \n",
      "                                                                                                  \n",
      " input_2 (InputLayer)           [(None, 3, 1)]       0           []                               \n",
      "                                                                                                  \n",
      " conv1d_2 (Conv1D)              (None, 2, 64)        192         ['input_1[0][0]']                \n",
      "                                                                                                  \n",
      " conv1d_3 (Conv1D)              (None, 2, 64)        192         ['input_2[0][0]']                \n",
      "                                                                                                  \n",
      " max_pooling1d_2 (MaxPooling1D)  (None, 1, 64)       0           ['conv1d_2[0][0]']               \n",
      "                                                                                                  \n",
      " max_pooling1d_3 (MaxPooling1D)  (None, 1, 64)       0           ['conv1d_3[0][0]']               \n",
      "                                                                                                  \n",
      " flatten_2 (Flatten)            (None, 64)           0           ['max_pooling1d_2[0][0]']        \n",
      "                                                                                                  \n",
      " flatten_3 (Flatten)            (None, 64)           0           ['max_pooling1d_3[0][0]']        \n",
      "                                                                                                  \n",
      " concatenate (Concatenate)      (None, 128)          0           ['flatten_2[0][0]',              \n",
      "                                                                  'flatten_3[0][0]']              \n",
      "                                                                                                  \n",
      " dense_4 (Dense)                (None, 50)           6450        ['concatenate[0][0]']            \n",
      "                                                                                                  \n",
      " dense_5 (Dense)                (None, 1)            51          ['dense_4[0][0]']                \n",
      "                                                                                                  \n",
      "==================================================================================================\n",
      "Total params: 6,885\n",
      "Trainable params: 6,885\n",
      "Non-trainable params: 0\n",
      "__________________________________________________________________________________________________\n"
     ]
    }
   ],
   "source": [
    "# Conectar entradas y salida del modelo\n",
    "model_3 = Model(inputs=[visible1, visible2], outputs=output)\n",
    "\n",
    "model_3.compile(optimizer='adam', loss='mse')\n",
    "\n",
    "model_3.summary()"
   ]
  },
  {
   "cell_type": "code",
   "execution_count": 26,
   "metadata": {},
   "outputs": [
    {
     "data": {
      "image/png": "[encoded data removed]",
      "text/plain": [
       "<IPython.core.display.Image object>"
      ]
     },
     "execution_count": 26,
     "metadata": {},
     "output_type": "execute_result"
    }
   ],
   "source": [
    "plot_model(model_3, to_file='model.png', show_shapes=True, show_layer_names=True)\n"
   ]
  },
  {
   "cell_type": "code",
   "execution_count": 27,
   "metadata": {},
   "outputs": [
    {
     "data": {
      "text/plain": [
       "(3, 13)"
      ]
     },
     "execution_count": 27,
     "metadata": {},
     "output_type": "execute_result"
    }
   ],
   "source": [
    "X[0].shape"
   ]
  },
  {
   "cell_type": "code",
   "execution_count": 28,
   "metadata": {},
   "outputs": [],
   "source": [
    "# Una serie de tiempo por submodelo\n",
    "n_features = 1\n",
    "\n",
    "# Separar datos de entrada\n",
    "X1 = X[:, :, 0].reshape(X.shape[0], X.shape[1], n_features)\n",
    "X2 = X[:, :, 1].reshape(X.shape[0], X.shape[1], n_features)"
   ]
  },
  {
   "cell_type": "code",
   "execution_count": 29,
   "metadata": {},
   "outputs": [
    {
     "data": {
      "text/plain": [
       "(543, 3, 1)"
      ]
     },
     "execution_count": 29,
     "metadata": {},
     "output_type": "execute_result"
    }
   ],
   "source": [
    "X1.shape\n"
   ]
  },
  {
   "cell_type": "code",
   "execution_count": 30,
   "metadata": {},
   "outputs": [],
   "source": [
    "history_3 = model_3.fit([X1, X2], y, epochs=1000, verbose=0)"
   ]
  },
  {
   "cell_type": "code",
   "execution_count": 31,
   "metadata": {},
   "outputs": [
    {
     "data": {
      "text/plain": [
       "<AxesSubplot:>"
      ]
     },
     "execution_count": 31,
     "metadata": {},
     "output_type": "execute_result"
    },
    {
     "data": {
      "image/png": "[encoded data removed]",
      "text/plain": [
       "<Figure size 640x480 with 1 Axes>"
      ]
     },
     "metadata": {},
     "output_type": "display_data"
    }
   ],
   "source": [
    "pd.DataFrame(history_3.history).plot()\n"
   ]
  },
  {
   "cell_type": "code",
   "execution_count": 32,
   "metadata": {},
   "outputs": [
    {
     "data": {
      "text/plain": [
       "array([[2675623.]], dtype=float32)"
      ]
     },
     "execution_count": 32,
     "metadata": {},
     "output_type": "execute_result"
    }
   ],
   "source": [
    "x1 = X1[-3:][0].reshape((1, n_steps, n_features))\n",
    "x2 = X2[-3:][0].reshape((1, n_steps, n_features))\n",
    "yhat = model_3.predict([x1, x2], verbose=0)\n",
    "yhat"
   ]
  },
  {
   "cell_type": "markdown",
   "metadata": {},
   "source": [
    "## 2.2 Múltiples series paralelas (multivariable forecasting)"
   ]
  },
  {
   "cell_type": "code",
   "execution_count": 33,
   "metadata": {},
   "outputs": [],
   "source": [
    "# dividir una secuencia multivariada en muestras para predicción múltiple\n",
    "def split_multiple_forecasting_sequence(sequence, n_steps):\n",
    "    X, y = list(), list()\n",
    "    for i in range(len(sequence)):\n",
    "        # encontrar el final de este patrón\n",
    "        end_ix = i + n_steps\n",
    "        \n",
    "        # comprobar si estamos más allá de la secuencia\n",
    "        if end_ix > len(sequence)-1:\n",
    "            break\n",
    "        # reunir partes de entrada y salida del patrón\n",
    "        seq_x, seq_y = sequence[i:end_ix, :], sequence[end_ix, :]\n",
    "        X.append(seq_x)\n",
    "        y.append(seq_y)\n",
    "    return np.array(X), np.array(y)"
   ]
  },
  {
   "cell_type": "code",
   "execution_count": 34,
   "metadata": {},
   "outputs": [],
   "source": [
    "n_steps = 3\n",
    "X_m, y_m = split_multiple_forecasting_sequence(data_dummy.to_numpy(), n_steps=n_steps)\n"
   ]
  },
  {
   "cell_type": "code",
   "execution_count": 35,
   "metadata": {},
   "outputs": [
    {
     "name": "stdout",
     "output_type": "stream",
     "text": [
      "Model: \"sequential_2\"\n",
      "_________________________________________________________________\n",
      " Layer (type)                Output Shape              Param #   \n",
      "=================================================================\n",
      " conv1d_4 (Conv1D)           (None, 2, 64)             1856      \n",
      "                                                                 \n",
      " max_pooling1d_4 (MaxPooling  (None, 1, 64)            0         \n",
      " 1D)                                                             \n",
      "                                                                 \n",
      " flatten_4 (Flatten)         (None, 64)                0         \n",
      "                                                                 \n",
      " dense_6 (Dense)             (None, 55)                3575      \n",
      "                                                                 \n",
      " dense_7 (Dense)             (None, 14)                784       \n",
      "                                                                 \n",
      "=================================================================\n",
      "Total params: 6,215\n",
      "Trainable params: 6,215\n",
      "Non-trainable params: 0\n",
      "_________________________________________________________________\n"
     ]
    }
   ],
   "source": [
    "n_features  = X_m.shape[2]\n",
    "# define model_4\n",
    "model_4 = Sequential()\n",
    "model_4.add(Conv1D(64, 2, activation='relu', input_shape=(n_steps, n_features)))\n",
    "model_4.add(MaxPooling1D())\n",
    "model_4.add(Flatten())\n",
    "model_4.add(Dense(55, activation='relu'))\n",
    "model_4.add(Dense(n_features))\n",
    "model_4.compile(optimizer='adam', loss='mse')\n",
    "\n",
    "model_4.summary()"
   ]
  },
  {
   "cell_type": "code",
   "execution_count": 36,
   "metadata": {},
   "outputs": [],
   "source": [
    "history_4 = model_4.fit(X_m, y_m, epochs=1000, verbose=0)\n"
   ]
  },
  {
   "cell_type": "code",
   "execution_count": 37,
   "metadata": {},
   "outputs": [
    {
     "data": {
      "text/plain": [
       "<AxesSubplot:>"
      ]
     },
     "execution_count": 37,
     "metadata": {},
     "output_type": "execute_result"
    },
    {
     "data": {
      "image/png": "[encoded data removed]",
      "text/plain": [
       "<Figure size 640x480 with 1 Axes>"
      ]
     },
     "metadata": {},
     "output_type": "display_data"
    }
   ],
   "source": [
    "pd.DataFrame(history_4.history).plot()\n"
   ]
  },
  {
   "cell_type": "code",
   "execution_count": 38,
   "metadata": {},
   "outputs": [
    {
     "name": "stdout",
     "output_type": "stream",
     "text": [
      "[[ 1.9868502e+03 -1.0895583e+03 -1.1268074e+03  1.9135292e+03\n",
      "   5.8478308e+02 -3.2797470e+02  5.9982233e+02  9.5722984e+01\n",
      "  -8.2967419e+02  2.4550841e+02 -8.6280060e+02  1.6659569e+02\n",
      "   3.7081112e+01  1.7068654e+06]]\n"
     ]
    }
   ],
   "source": [
    "x_input  = X_m[-1].reshape((1, n_steps, n_features))\n",
    "yhat = model_4.predict(x_input, verbose=0)\n",
    "print(yhat)\n"
   ]
  },
  {
   "cell_type": "markdown",
   "metadata": {},
   "source": [
    "## Multi-output CNN Model"
   ]
  },
  {
   "cell_type": "code",
   "execution_count": 39,
   "metadata": {},
   "outputs": [],
   "source": [
    "n_features = X_m.shape[2]\n",
    "\n",
    "visible = Input(shape=(n_steps, n_features))\n",
    "cnn = Conv1D(64, 2, activation='relu')(visible)\n",
    "cnn = MaxPooling1D()(cnn)\n",
    "cnn = Flatten()(cnn)\n",
    "cnn = Dense(50, activation='relu')(cnn)"
   ]
  },
  {
   "cell_type": "code",
   "execution_count": 40,
   "metadata": {},
   "outputs": [],
   "source": [
    "# Definimos salida 1\n",
    "output1 = Dense(1)(cnn)\n",
    "# Definimos salida 2\n",
    "output2 = Dense(1)(cnn)\n",
    "# Definimos salida 3\n",
    "output3 = Dense(1)(cnn)"
   ]
  },
  {
   "cell_type": "code",
   "execution_count": 41,
   "metadata": {},
   "outputs": [],
   "source": [
    "# Ponemos todo junto\n",
    "model_5 = Model(inputs=visible, outputs=[output1, output2, output3])\n",
    "model_5.compile(optimizer='adam', loss='mse')"
   ]
  },
  {
   "cell_type": "code",
   "execution_count": 42,
   "metadata": {},
   "outputs": [
    {
     "name": "stdout",
     "output_type": "stream",
     "text": [
      "Model: \"model_1\"\n",
      "__________________________________________________________________________________________________\n",
      " Layer (type)                   Output Shape         Param #     Connected to                     \n",
      "==================================================================================================\n",
      " input_3 (InputLayer)           [(None, 3, 14)]      0           []                               \n",
      "                                                                                                  \n",
      " conv1d_5 (Conv1D)              (None, 2, 64)        1856        ['input_3[0][0]']                \n",
      "                                                                                                  \n",
      " max_pooling1d_5 (MaxPooling1D)  (None, 1, 64)       0           ['conv1d_5[0][0]']               \n",
      "                                                                                                  \n",
      " flatten_5 (Flatten)            (None, 64)           0           ['max_pooling1d_5[0][0]']        \n",
      "                                                                                                  \n",
      " dense_8 (Dense)                (None, 50)           3250        ['flatten_5[0][0]']              \n",
      "                                                                                                  \n",
      " dense_9 (Dense)                (None, 1)            51          ['dense_8[0][0]']                \n",
      "                                                                                                  \n",
      " dense_10 (Dense)               (None, 1)            51          ['dense_8[0][0]']                \n",
      "                                                                                                  \n",
      " dense_11 (Dense)               (None, 1)            51          ['dense_8[0][0]']                \n",
      "                                                                                                  \n",
      "==================================================================================================\n",
      "Total params: 5,259\n",
      "Trainable params: 5,259\n",
      "Non-trainable params: 0\n",
      "__________________________________________________________________________________________________\n"
     ]
    }
   ],
   "source": [
    "model_5.summary()\n"
   ]
  },
  {
   "cell_type": "code",
   "execution_count": 43,
   "metadata": {},
   "outputs": [
    {
     "data": {
      "image/png": "[encoded data removed]",
      "text/plain": [
       "<IPython.core.display.Image object>"
      ]
     },
     "execution_count": 43,
     "metadata": {},
     "output_type": "execute_result"
    }
   ],
   "source": [
    "plot_model(model_5, show_shapes=True, show_layer_names=True)\n"
   ]
  },
  {
   "cell_type": "code",
   "execution_count": 44,
   "metadata": {},
   "outputs": [
    {
     "data": {
      "text/plain": [
       "(542, 14)"
      ]
     },
     "execution_count": 44,
     "metadata": {},
     "output_type": "execute_result"
    }
   ],
   "source": [
    "y_m.shape"
   ]
  },
  {
   "cell_type": "code",
   "execution_count": 45,
   "metadata": {},
   "outputs": [],
   "source": [
    "# Separar salidas\n",
    "y1 = y_m[:, 0].reshape((y_m.shape[0], 1))\n",
    "y2 = y_m[:, 1].reshape((y_m.shape[0], 1))\n",
    "y3 = y_m[:, 2].reshape((y_m.shape[0], 1))"
   ]
  },
  {
   "cell_type": "code",
   "execution_count": 46,
   "metadata": {},
   "outputs": [
    {
     "data": {
      "text/plain": [
       "(542, 1)"
      ]
     },
     "execution_count": 46,
     "metadata": {},
     "output_type": "execute_result"
    }
   ],
   "source": [
    "y1.shape\n"
   ]
  },
  {
   "cell_type": "code",
   "execution_count": 48,
   "metadata": {},
   "outputs": [],
   "source": [
    "history_5 = model_5.fit(X_m, [y1,y2,y3], epochs=700, verbose=0)\n"
   ]
  },
  {
   "cell_type": "code",
   "execution_count": 49,
   "metadata": {},
   "outputs": [
    {
     "data": {
      "text/plain": [
       "<AxesSubplot:>"
      ]
     },
     "execution_count": 49,
     "metadata": {},
     "output_type": "execute_result"
    },
    {
     "data": {
      "image/png": "[encoded data removed]",
      "text/plain": [
       "<Figure size 640x480 with 1 Axes>"
      ]
     },
     "metadata": {},
     "output_type": "display_data"
    }
   ],
   "source": [
    "pd.DataFrame(history_5.history).plot()\n"
   ]
  },
  {
   "cell_type": "markdown",
   "metadata": {},
   "source": [
    "## 3. Modelos CNN de pasos múltiples\n",
    "3.1 Serie temporal univariada"
   ]
  },
  {
   "cell_type": "code",
   "execution_count": 50,
   "metadata": {},
   "outputs": [],
   "source": [
    "# dividir una secuencia univariada en muestras\n",
    "def split_univariate_sequence_m_step(sequence, n_steps_in, n_steps_out):\n",
    "    X, y = list(), list()\n",
    "    for i in range(len(sequence)):\n",
    "        # encontrar el final de este patrón\n",
    "        end_ix = i + n_steps_in\n",
    "        out_end_ix = end_ix + n_steps_out\n",
    "        \n",
    "        # comprobar si estamos más allá de la secuencia\n",
    "        if out_end_ix > len(sequence):\n",
    "            break\n",
    "        # reunir partes de entrada y salida del patrón\n",
    "        seq_x, seq_y = sequence[i:end_ix], sequence[end_ix:out_end_ix]\n",
    "        X.append(seq_x)\n",
    "        y.append(seq_y)\n",
    "    return np.array(X), np.array(y)"
   ]
  },
  {
   "cell_type": "code",
   "execution_count": 51,
   "metadata": {},
   "outputs": [
    {
     "data": {
      "text/plain": [
       "((541, 3), (541, 2))"
      ]
     },
     "execution_count": 51,
     "metadata": {},
     "output_type": "execute_result"
    }
   ],
   "source": [
    "n_steps_in, n_steps_out  = 3, 2\n",
    "# Particionar mis datos\n",
    "X, y = split_univariate_sequence_m_step(data['price'], n_steps_in, n_steps_out)\n",
    "X.shape, y.shape\n"
   ]
  },
  {
   "cell_type": "code",
   "execution_count": 52,
   "metadata": {},
   "outputs": [
    {
     "data": {
      "text/plain": [
       "(541, 3, 1)"
      ]
     },
     "execution_count": 52,
     "metadata": {},
     "output_type": "execute_result"
    }
   ],
   "source": [
    "# Debemos tranformar nuestro datos de [samples, timesteps] a [samples, timesteps, features]\n",
    "n_features = 1\n",
    "X = X.reshape((X.shape[0], X.shape[1], n_features))\n",
    "X.shape"
   ]
  },
  {
   "cell_type": "code",
   "execution_count": 53,
   "metadata": {},
   "outputs": [
    {
     "name": "stdout",
     "output_type": "stream",
     "text": [
      "Model: \"sequential_3\"\n",
      "_________________________________________________________________\n",
      " Layer (type)                Output Shape              Param #   \n",
      "=================================================================\n",
      " conv1d_6 (Conv1D)           (None, 2, 64)             192       \n",
      "                                                                 \n",
      " max_pooling1d_6 (MaxPooling  (None, 1, 64)            0         \n",
      " 1D)                                                             \n",
      "                                                                 \n",
      " flatten_6 (Flatten)         (None, 64)                0         \n",
      "                                                                 \n",
      " dense_12 (Dense)            (None, 50)                3250      \n",
      "                                                                 \n",
      " dense_13 (Dense)            (None, 2)                 102       \n",
      "                                                                 \n",
      "=================================================================\n",
      "Total params: 3,544\n",
      "Trainable params: 3,544\n",
      "Non-trainable params: 0\n",
      "_________________________________________________________________\n"
     ]
    }
   ],
   "source": [
    "# Crear nuestro modelo\n",
    "model_6 = Sequential()\n",
    "model_6.add(Conv1D(64, 2, activation='relu', input_shape=(n_steps_in, n_features)))\n",
    "model_6.add(MaxPooling1D())\n",
    "model_6.add(Flatten())\n",
    "model_6.add(Dense(50, activation='relu'))\n",
    "model_6.add(Dense(n_steps_out))\n",
    "model_6.compile(optimizer='adam', loss='mse')\n",
    "\n",
    "model_6.summary()"
   ]
  },
  {
   "cell_type": "code",
   "execution_count": 54,
   "metadata": {},
   "outputs": [
    {
     "data": {
      "image/png": "[encoded data removed]",
      "text/plain": [
       "<IPython.core.display.Image object>"
      ]
     },
     "execution_count": 54,
     "metadata": {},
     "output_type": "execute_result"
    }
   ],
   "source": [
    "plot_model(model_6, show_layer_names=False, show_shapes=True,)\n"
   ]
  },
  {
   "cell_type": "code",
   "execution_count": 55,
   "metadata": {},
   "outputs": [],
   "source": [
    "history_6 = model_6.fit(X, y, epochs=1000, verbose=0)\n"
   ]
  },
  {
   "cell_type": "code",
   "execution_count": 56,
   "metadata": {},
   "outputs": [
    {
     "data": {
      "text/plain": [
       "<AxesSubplot:>"
      ]
     },
     "execution_count": 56,
     "metadata": {},
     "output_type": "execute_result"
    },
    {
     "data": {
      "image/png": "[encoded data removed]",
      "text/plain": [
       "<Figure size 640x480 with 1 Axes>"
      ]
     },
     "metadata": {},
     "output_type": "display_data"
    }
   ],
   "source": [
    "pd.DataFrame(history_6.history).plot()\n"
   ]
  },
  {
   "cell_type": "code",
   "execution_count": 58,
   "metadata": {},
   "outputs": [
    {
     "name": "stdout",
     "output_type": "stream",
     "text": [
      "[[1716790.1 1693809.8]]\n"
     ]
    }
   ],
   "source": [
    "last_sample = X[-1]\n",
    "\n",
    "# Reshape para que tenga la forma correcta (1, n_steps, n_features)\n",
    "x_input  = last_sample.reshape((1, n_steps, n_features))\n",
    "\n",
    "# Hacer la predicción\n",
    "yhat = model_6.predict(x_input, verbose=0)\n",
    "\n",
    "# Imprimir las predicciones\n",
    "print(yhat)"
   ]
  },
  {
   "cell_type": "markdown",
   "metadata": {},
   "source": [
    "## 3.2 Serie temporal multivariada"
   ]
  },
  {
   "cell_type": "code",
   "execution_count": 59,
   "metadata": {},
   "outputs": [],
   "source": [
    "# dividir una secuencia multivariada en muestras\n",
    "def split_multivariate_sequence_m_step(sequence: np.ndarray, n_steps_in: int, n_steps_out: int):\n",
    "    X, y = list(), list()\n",
    "    for i in range(len(sequence)):\n",
    "        # encontrar el final de este patrón\n",
    "        end_ix = i + n_steps_in\n",
    "        out_end_ix = end_ix + n_steps_out - 1\n",
    "\n",
    "        # comprobar si estamos más allá de la secuencia\n",
    "        if out_end_ix > len(sequence):\n",
    "            break\n",
    "        # reunir partes de entrada y salida del patrón\n",
    "        seq_x, seq_y = sequence[i:end_ix, :-1], sequence[end_ix-1:out_end_ix, -1]\n",
    "        X.append(seq_x)\n",
    "        y.append(seq_y)\n",
    "    return np.array(X), np.array(y)"
   ]
  },
  {
   "cell_type": "code",
   "execution_count": 60,
   "metadata": {},
   "outputs": [],
   "source": [
    "# Elegir un número de pasos de tiempo\n",
    "n_steps_in, n_steps_out = 3, 2\n",
    "\n",
    "X, y = split_multivariate_sequence_m_step(data_dummy.to_numpy(), n_steps_in, n_steps_out)"
   ]
  },
  {
   "cell_type": "code",
   "execution_count": 61,
   "metadata": {},
   "outputs": [
    {
     "name": "stdout",
     "output_type": "stream",
     "text": [
      "Model: \"sequential_4\"\n",
      "_________________________________________________________________\n",
      " Layer (type)                Output Shape              Param #   \n",
      "=================================================================\n",
      " conv1d_7 (Conv1D)           (None, 2, 64)             1728      \n",
      "                                                                 \n",
      " max_pooling1d_7 (MaxPooling  (None, 1, 64)            0         \n",
      " 1D)                                                             \n",
      "                                                                 \n",
      " flatten_7 (Flatten)         (None, 64)                0         \n",
      "                                                                 \n",
      " dense_14 (Dense)            (None, 50)                3250      \n",
      "                                                                 \n",
      " dense_15 (Dense)            (None, 2)                 102       \n",
      "                                                                 \n",
      "=================================================================\n",
      "Total params: 5,080\n",
      "Trainable params: 5,080\n",
      "Non-trainable params: 0\n",
      "_________________________________________________________________\n"
     ]
    }
   ],
   "source": [
    "n_features = X.shape[2]\n",
    "\n",
    "# Definir el modelo \n",
    "model_7 = Sequential()\n",
    "model_7.add(Conv1D(64, 2, activation='relu', input_shape=(n_steps_in, n_features)))\n",
    "model_7.add(MaxPooling1D())\n",
    "model_7.add(Flatten())\n",
    "model_7.add(Dense(50, activation='relu'))\n",
    "model_7.add(Dense(n_steps_out))\n",
    "model_7.compile(optimizer='adam', loss='mse')\n",
    "# fit model_7\n",
    "model_7.fit(X, y, epochs=2000, verbose=0)\n",
    "\n",
    "model_7.summary()"
   ]
  },
  {
   "cell_type": "code",
   "execution_count": 63,
   "metadata": {},
   "outputs": [
    {
     "name": "stdout",
     "output_type": "stream",
     "text": [
      "[[2688742. 2676333.]]\n"
     ]
    }
   ],
   "source": [
    "last_sample = X[-1]\n",
    "\n",
    "# Reshape para que tenga la forma correcta (1, n_steps, n_features)\n",
    "x_input  = last_sample.reshape((1, n_steps, n_features))\n",
    "\n",
    "# Hacer la predicción\n",
    "yhat = model_7.predict(x_input, verbose=0)\n",
    "\n",
    "# Imprimir las predicciones\n",
    "print(yhat)"
   ]
  },
  {
   "cell_type": "markdown",
   "metadata": {},
   "source": [
    "## 3.3 Serie temporal multivariada predicción múltiple de cada entrada"
   ]
  },
  {
   "cell_type": "code",
   "execution_count": 64,
   "metadata": {},
   "outputs": [],
   "source": [
    "# dividir una secuencia multivariada en muestras\n",
    "def split_multivariate_sequence_m_step_parallel(sequence: np.ndarray, n_steps_in: int, n_steps_out: int):\n",
    "    X, y = list(), list()\n",
    "    for i in range(len(sequence)):\n",
    "        # encontrar el final de este patrón\n",
    "        end_ix = i + n_steps_in\n",
    "        out_end_ix = end_ix + n_steps_out\n",
    "        \n",
    "        # comprobar si estamos más allá de la secuencia\n",
    "        if out_end_ix > len(sequence):\n",
    "            break\n",
    "        # reunir partes de entrada y salida del patrón\n",
    "        seq_x, seq_y = sequence[i:end_ix, :], sequence[end_ix:out_end_ix, :]\n",
    "        X.append(seq_x)\n",
    "        y.append(seq_y)\n",
    "    return np.array(X), np.array(y)"
   ]
  },
  {
   "cell_type": "code",
   "execution_count": 65,
   "metadata": {},
   "outputs": [
    {
     "data": {
      "text/plain": [
       "((541, 3, 14), (541, 2, 14))"
      ]
     },
     "execution_count": 65,
     "metadata": {},
     "output_type": "execute_result"
    }
   ],
   "source": [
    "# Elegir un número de pasos de tiempo\n",
    "n_steps_in, n_steps_out = 3, 2\n",
    "\n",
    "X, y = split_multivariate_sequence_m_step_parallel(data_dummy.to_numpy(), n_steps_in, n_steps_out)\n",
    "X.shape ,y.shape"
   ]
  },
  {
   "cell_type": "code",
   "execution_count": 66,
   "metadata": {},
   "outputs": [
    {
     "data": {
      "text/plain": [
       "(541, 28)"
      ]
     },
     "execution_count": 66,
     "metadata": {},
     "output_type": "execute_result"
    }
   ],
   "source": [
    "# flatten output\n",
    "n_output = y.shape[1] * y.shape[2]\n",
    "y = y.reshape((y.shape[0], n_output))\n",
    "y.shape"
   ]
  },
  {
   "cell_type": "code",
   "execution_count": 67,
   "metadata": {},
   "outputs": [],
   "source": [
    "n_features = X.shape[2]\n",
    "\n",
    "# Definimos nuestro modelo\n",
    "model_8 = Sequential()\n",
    "model_8.add(Conv1D(64, 2, activation='relu', input_shape=(n_steps_in, n_features)))\n",
    "model_8.add(MaxPooling1D())\n",
    "model_8.add(Flatten())\n",
    "model_8.add(Dense(50, activation='relu'))\n",
    "model_8.add(Dense(n_output))\n",
    "model_8.compile(optimizer='adam', loss='mse')\n",
    "\n",
    "# fit model_8\n",
    "history_8 = model_8.fit(X, y, epochs=1000, verbose=0)"
   ]
  },
  {
   "cell_type": "code",
   "execution_count": 68,
   "metadata": {},
   "outputs": [
    {
     "data": {
      "text/plain": [
       "<AxesSubplot:>"
      ]
     },
     "execution_count": 68,
     "metadata": {},
     "output_type": "execute_result"
    },
    {
     "data": {
      "image/png": "[encoded data removed]",
      "text/plain": [
       "<Figure size 640x480 with 1 Axes>"
      ]
     },
     "metadata": {},
     "output_type": "display_data"
    }
   ],
   "source": [
    "pd.DataFrame(history_8.history).plot()\n"
   ]
  },
  {
   "cell_type": "code",
   "execution_count": 70,
   "metadata": {},
   "outputs": [
    {
     "name": "stdout",
     "output_type": "stream",
     "text": [
      "[[-4.11697906e+02  8.06619019e+02  7.36855927e+01  2.80964569e+02\n",
      "  -1.28580612e+02 -2.72858246e+02  8.71842896e+02 -4.12799469e+02\n",
      "   3.66671570e+02  7.75470032e+02 -6.48885010e+02  9.35972717e+02\n",
      "  -2.94272400e+02  1.75800400e+06  6.61780029e+02 -6.95239319e+02\n",
      "  -3.47835114e+02 -2.00328140e+02 -1.60911224e+02 -1.00933984e+03\n",
      "   1.02243329e+03  1.46533630e+02  1.07750354e+03  9.09695007e+02\n",
      "   4.75477264e+02 -7.56143860e+02 -1.83123398e+01  1.74573825e+06]]\n"
     ]
    }
   ],
   "source": [
    "# Probar nuestro model\n",
    "x_input  = X[-1].reshape((1, n_steps_in, n_features))\n",
    "yhat  = model_8.predict(x_input, verbose=0)\n",
    "print(yhat)0\n",
    " "
   ]
  },
  {
   "cell_type": "code",
   "execution_count": 71,
   "metadata": {},
   "outputs": [
    {
     "data": {
      "text/plain": [
       "[array([[-4.11697906e+02,  8.06619019e+02,  7.36855927e+01,\n",
       "          2.80964569e+02, -1.28580612e+02, -2.72858246e+02,\n",
       "          8.71842896e+02, -4.12799469e+02,  3.66671570e+02,\n",
       "          7.75470032e+02, -6.48885010e+02,  9.35972717e+02,\n",
       "         -2.94272400e+02,  1.75800400e+06],\n",
       "        [ 6.61780029e+02, -6.95239319e+02, -3.47835114e+02,\n",
       "         -2.00328140e+02, -1.60911224e+02, -1.00933984e+03,\n",
       "          1.02243329e+03,  1.46533630e+02,  1.07750354e+03,\n",
       "          9.09695007e+02,  4.75477264e+02, -7.56143860e+02,\n",
       "         -1.83123398e+01,  1.74573825e+06]], dtype=float32)]"
      ]
     },
     "execution_count": 71,
     "metadata": {},
     "output_type": "execute_result"
    }
   ],
   "source": [
    "[yhat[i].reshape(n_steps_out, n_features) for i in range(yhat.shape[0])]\n"
   ]
  }
 ],
 "metadata": {
  "kernelspec": {
   "display_name": "Python 3 (ipykernel)",
   "language": "python",
   "name": "python3"
  },
  "language_info": {
   "codemirror_mode": {
    "name": "ipython",
    "version": 3
   },
   "file_extension": ".py",
   "mimetype": "text/x-python",
   "name": "python",
   "nbconvert_exporter": "python",
   "pygments_lexer": "ipython3",
   "version": "3.9.13"
  }
 },
 "nbformat": 4,
 "nbformat_minor": 2
}
